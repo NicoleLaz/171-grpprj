{
 "cells": [
  {
   "cell_type": "markdown",
   "metadata": {},
   "source": [
    "# Prototype\n"
   ]
  },
  {
   "cell_type": "markdown",
   "metadata": {},
   "source": [
    "### First data proccesing into pandas or numpy "
   ]
  },
  {
   "cell_type": "code",
   "execution_count": 10,
   "metadata": {},
   "outputs": [],
   "source": [
    "#last working version was 4 days from 30th\n",
    "import pandas as pd \n",
    "import numpy as np"
   ]
  },
  {
   "cell_type": "code",
   "execution_count": 11,
   "metadata": {},
   "outputs": [
    {
     "name": "stdout",
     "output_type": "stream",
     "text": [
      "left      0.407539\n",
      "right     0.406864\n",
      "center    0.185598\n",
      "Name: type, dtype: float64\n",
      "                                                    text  center  left  right\n",
      "0      The transgender effort to suppress any recogni...       0     0      1\n",
      "1      Radical Virginia Citizens Defense League has o...       0     1      0\n",
      "2      Miller is the architect of President Donald Tr...       0     1      0\n",
      "3      The House Democrats’ 1,400-page coronavirus re...       0     0      1\n",
      "4      A specter is haunting the West; our elites see...       0     0      1\n",
      "...                                                  ...     ...   ...    ...\n",
      "22466  Oregon first graders could attend gun safety c...       1     0      0\n",
      "22467  But President Donald Trump and his campaign ad...       0     1      0\n",
      "22468  The normalization effort included softened rhe...       1     0      0\n",
      "22469  And so, while demonstrations began to spread a...       0     1      0\n",
      "22470  House and Senate Democrats are responding to t...       0     0      1\n",
      "\n",
      "[17775 rows x 4 columns]\n"
     ]
    },
    {
     "name": "stderr",
     "output_type": "stream",
     "text": [
      "C:\\Users\\mrimb\\AppData\\Local\\Temp/ipykernel_2728/123316559.py:4: FutureWarning: In a future version of pandas all arguments of DataFrame.drop except for the argument 'labels' will be keyword-only\n",
      "  df.drop(df.columns.difference([\"text\",\"type\"]), 1, inplace=True)\n"
     ]
    }
   ],
   "source": [
    "#convert the excelt data into a data frame\n",
    "df = pd.read_excel(\"annotations.xlsx\",index_col=0 )\n",
    "#drop all columns except for sentence and it's political leaning (type)\n",
    "df.drop(df.columns.difference([\"text\",\"type\"]), 1, inplace=True)\n",
    "#count all the instances of each political leaning\n",
    "distrub = df['type'].value_counts(normalize=True)\n",
    "print(distrub)\n",
    "#create a one hot encoding by political leaning\n",
    "one_hot = pd.get_dummies(df[\"type\"])\n",
    "#drop the type column\n",
    "df = df.drop(\"type\",axis = 1)\n",
    "#add the one hot encoding to the main data frame\n",
    "df = df.join(one_hot)\n",
    "\n",
    "print(df)"
   ]
  },
  {
   "cell_type": "markdown",
   "metadata": {},
   "source": [
    "### Exploratory data analysis "
   ]
  },
  {
   "cell_type": "code",
   "execution_count": 16,
   "metadata": {},
   "outputs": [
    {
     "name": "stdout",
     "output_type": "stream",
     "text": [
      "--Distribution of Political Bias--\n",
      "Percentage Distrubtuion\n",
      "left      40.753868\n",
      "right     40.686357\n",
      "center    18.559775\n",
      "Name: type, dtype: float64\n"
     ]
    }
   ],
   "source": [
    "#numerical data anaylisis on the type\n",
    "print(\"--Distribution of Political Bias--\")\n",
    "print(\"Percentage Distrubtuion\")\n",
    "print(distrub * 100) \n",
    "\n",
    "center = df['center'].value_counts() #we use post one-hot encoded dataset \n",
    "# print(center)\n",
    "left = df['left'].value_counts()\n",
    "# print(left)\n",
    "right = df['right'].value_counts()\n",
    "# print(right)\n",
    "\n"
   ]
  },
  {
   "cell_type": "code",
   "execution_count": 17,
   "metadata": {},
   "outputs": [
    {
     "name": "stdout",
     "output_type": "stream",
     "text": [
      "--WORD PER SENTENCE AVGS--\n",
      "Left word count average:  33.95416896742132\n",
      "Center word count average:  33.250552638850515\n",
      "Right word count average:  32.545768805309734\n",
      "Total word count average:  33.42632911392405\n"
     ]
    },
    {
     "data": {
      "image/png": "[encoded data removed]",
      "text/plain": [
       "<Figure size 1008x288 with 4 Axes>"
      ]
     },
     "metadata": {
      "needs_background": "light"
     },
     "output_type": "display_data"
    }
   ],
   "source": [
    "import matplotlib.pyplot as plt\n",
    "#Text anaylsis on the body of the text \n",
    "print(\"--WORD PER SENTENCE AVGS--\")\n",
    "\n",
    "#create a word count column that contains the corresponding word count for each sentence\n",
    "df['word_count'] = df['text'].apply(lambda x: len(str(x).split()))\n",
    "\n",
    "#identify the word count based on the political leaning \n",
    "print(\"Left word count average: \", df[df['left']==1]['word_count'].mean()) #left\n",
    "print(\"Center word count average: \", df[df['center']==0]['word_count'].mean()) #center\n",
    "print(\"Right word count average: \", df[df['right']==1]['word_count'].mean()) #right\n",
    "print(\"Total word count average: \", df['word_count'].mean()) #Total\n",
    "# print(df)\n",
    "\n",
    "#distribution graphs of the word counts in each political leaning\n",
    "fig,(leftAx,RightAx,CenterAx,TotalAx)=plt.subplots(1,4,figsize=(14,4))\n",
    "\n",
    "#the word count for left leaning articles\n",
    "lefty=df[df['left']==1]['word_count']\n",
    "#create a histogram \n",
    "leftAx.hist(lefty,color='blue')\n",
    "leftAx.set_title('Left Length Distribution')\n",
    "\n",
    "righty=df[df['right']==1]['word_count']\n",
    "RightAx.hist(righty,color='red')\n",
    "RightAx.set_title('Right Length Distribution')\n",
    "\n",
    "centery=df[df['center']==1]['word_count']\n",
    "CenterAx.hist(centery,color='green')\n",
    "CenterAx.set_title('Center Length Distribution')\n",
    "\n",
    "#the distribution for word counts across all political leanings\n",
    "totally=df['word_count']\n",
    "TotalAx.hist(totally,color='black')\n",
    "TotalAx.set_title('Total Length Distribution')\n",
    "fig.suptitle('Words per sentence')\n",
    "\n",
    "#display the graph \n",
    "plt.show()\n"
   ]
  },
  {
   "cell_type": "code",
   "execution_count": 18,
   "metadata": {},
   "outputs": [
    {
     "name": "stdout",
     "output_type": "stream",
     "text": [
      "                                                    text  center  left  right\n",
      "0      The transgender effort to suppress any recogni...       0     0      1\n",
      "1      Radical Virginia Citizens Defense League has o...       0     1      0\n",
      "2      Miller is the architect of President Donald Tr...       0     1      0\n",
      "3      The House Democrats’ 1,400-page coronavirus re...       0     0      1\n",
      "4      A specter is haunting the West; our elites see...       0     0      1\n",
      "...                                                  ...     ...   ...    ...\n",
      "22466  Oregon first graders could attend gun safety c...       1     0      0\n",
      "22467  But President Donald Trump and his campaign ad...       0     1      0\n",
      "22468  The normalization effort included softened rhe...       1     0      0\n",
      "22469  And so, while demonstrations began to spread a...       0     1      0\n",
      "22470  House and Senate Democrats are responding to t...       0     0      1\n",
      "\n",
      "[17775 rows x 4 columns]\n"
     ]
    }
   ],
   "source": [
    "#reverting back to orginial one hoted encoded dataframe by removing word count\n",
    "df = df.drop(columns=[\"word_count\"])\n",
    "print(df)"
   ]
  },
  {
   "cell_type": "markdown",
   "metadata": {},
   "source": [
    "### Model Prototype "
   ]
  },
  {
   "cell_type": "code",
   "execution_count": 31,
   "metadata": {},
   "outputs": [],
   "source": [
    "import tensorflow as tf\n",
    "import tensorflow_hub as hub\n",
    "import tensorflow_text as text\n",
    "import pandas as pd\n",
    "from sklearn.model_selection import train_test_split\n",
    "X = df.iloc[:,0]\n",
    "Y = df.iloc[:, 1:4]\n",
    "\n",
    "\n",
    "df_right  = df[df['right']==1]\n",
    "df_center = df[df['center']==1]\n",
    "df_left   = df[df['left']==1]\n",
    "\n",
    "# print(df_right)\n",
    "# print(df_center)\n",
    "# print(df_left)\n",
    "\n",
    "#downsample the left and right data frames to match the size of center (the smallest category)\n",
    "df_right_downsampled = df_right.sample(df_center.shape[0])\n",
    "df_left_downsampled = df_left.sample(df_center.shape[0])\n",
    "\n",
    "# print(df_right_downsampled)\n",
    "# print(df_left_downsampled)\n",
    "\n",
    "#join together the dataframes of the downsampled categories\n",
    "df_balanced = pd.concat([df_center, df_left_downsampled, df_right_downsampled])\n"
   ]
  },
  {
   "cell_type": "code",
   "execution_count": null,
   "metadata": {},
   "outputs": [],
   "source": [
    "\n",
    "\n",
    "X_train, X_test, y_train, y_test = train_test_split(X, Y, test_size = 0.10, random_state=5)\n",
    "# print(y_train)\n"
   ]
  },
  {
   "cell_type": "code",
   "execution_count": null,
   "metadata": {},
   "outputs": [],
   "source": [
    "\n",
    "bert_preprocess = hub.KerasLayer(\"https://tfhub.dev/tensorflow/bert_en_uncased_preprocess/3\")\n",
    "bert_encoder = hub.KerasLayer(\"https://tfhub.dev/tensorflow/bert_en_uncased_L-12_H-768_A-12/4\")\n",
    "\n"
   ]
  },
  {
   "cell_type": "code",
   "execution_count": null,
   "metadata": {},
   "outputs": [],
   "source": [
    "\n",
    "text_input = tf.keras.layers.Input(shape=(), dtype=tf.string, name='text')\n",
    "preprocessed_text = bert_preprocess(text_input)\n",
    "outputs = bert_encoder(preprocessed_text)\n",
    "\n",
    "l = tf.keras.layers.Dropout(0.1, name=\"dropout\")(outputs['pooled_output'])\n",
    "l = tf.keras.layers.Dense(1, activation='sigmoid', name=\"output\")(l)\n",
    "\n",
    "model = tf.keras.Model(inputs=[text_input], outputs = [l])\n",
    "\n",
    "model.summary()\n",
    "\n",
    "METRICS = [\n",
    "      tf.keras.metrics.BinaryAccuracy(name='accuracy'),\n",
    "      tf.keras.metrics.Precision(name='precision'),\n",
    "      tf.keras.metrics.Recall(name='recall')\n",
    "]\n",
    "\n",
    "model.compile(optimizer='adam',\n",
    " loss='binary_crossentropy',\n",
    " metrics=METRICS)\n"
   ]
  },
  {
   "cell_type": "markdown",
   "metadata": {},
   "source": [
    "Possible Additional Pre-proccesing to explore: (see results after building the models and see if any helps)\n",
    "- Stemming \n",
    "- Lemiilzations \n",
    "- stop word removal "
   ]
  },
  {
   "cell_type": "markdown",
   "metadata": {},
   "source": [
    "Possible Prototypes --> tokenization/\n",
    "- less preferably a BOW model like inverse doc frequency \n",
    "- word2vec for word embeddings \n",
    "- preferbly will try a bert word embeding/vectorization  (we can use a much smaller model like distl-bert or another mini-bert type model if training time is too much)"
   ]
  },
  {
   "cell_type": "markdown",
   "metadata": {},
   "source": [
    "for main model \n",
    "\n",
    "- see accuracy for naive bayes, svm, logistic regression \n",
    "- see how a convletional layer helps \n",
    "- NOt really sure how to actaully build the models do we need LSTM? Do we need a dense Layer? Which activation funcs should we use? (also how are we gonna train it in terms of compute power and time to train)"
   ]
  },
  {
   "cell_type": "markdown",
   "metadata": {},
   "source": [
    "For hyperparameter tuning \n",
    "- gridsearch \n",
    "- random search \n",
    "- by hand delegated to each of the team memebers - \n",
    "- (how and if we can do k-fold cross validation on our dataset?)"
   ]
  },
  {
   "cell_type": "markdown",
   "metadata": {},
   "source": [
    "Types of output we should look at \n",
    "- confusion matrix \n",
    "- put in plain old predications by hand \n",
    "- accuracy\n",
    "- roc curve "
   ]
  },
  {
   "cell_type": "code",
   "execution_count": null,
   "metadata": {},
   "outputs": [],
   "source": []
  }
 ],
 "metadata": {
  "interpreter": {
   "hash": "b4f3180dad18104dcc567b2a312b77409dee62167252131be2d0af34ec1d8223"
  },
  "kernelspec": {
   "display_name": "Python 3.9.7 ('base')",
   "language": "python",
   "name": "python3"
  },
  "language_info": {
   "codemirror_mode": {
    "name": "ipython",
    "version": 3
   },
   "file_extension": ".py",
   "mimetype": "text/x-python",
   "name": "python",
   "nbconvert_exporter": "python",
   "pygments_lexer": "ipython3",
   "version": "3.9.7"
  },
  "orig_nbformat": 4
 },
 "nbformat": 4,
 "nbformat_minor": 2
}
