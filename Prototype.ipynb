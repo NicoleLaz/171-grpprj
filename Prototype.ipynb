{
 "cells": [
  {
   "cell_type": "markdown",
   "metadata": {},
   "source": [
    "# Prototype\n"
   ]
  },
  {
   "cell_type": "markdown",
   "metadata": {},
   "source": [
    "### First data proccesing into pandas or numpy "
   ]
  },
  {
   "cell_type": "code",
   "execution_count": 16,
   "metadata": {},
   "outputs": [
    {
     "name": "stdout",
     "output_type": "stream",
     "text": [
      "                                                    text  center  left  right\n",
      "0      The transgender effort to suppress any recogni...       0     0      1\n",
      "1      Radical Virginia Citizens Defense League has o...       0     1      0\n",
      "2      Miller is the architect of President Donald Tr...       0     1      0\n",
      "3      The House Democrats’ 1,400-page coronavirus re...       0     0      1\n",
      "4      A specter is haunting the West; our elites see...       0     0      1\n",
      "...                                                  ...     ...   ...    ...\n",
      "22466  Oregon first graders could attend gun safety c...       1     0      0\n",
      "22467  But President Donald Trump and his campaign ad...       0     1      0\n",
      "22468  The normalization effort included softened rhe...       1     0      0\n",
      "22469  And so, while demonstrations began to spread a...       0     1      0\n",
      "22470  House and Senate Democrats are responding to t...       0     0      1\n",
      "\n",
      "[17775 rows x 4 columns]\n"
     ]
    },
    {
     "name": "stderr",
     "output_type": "stream",
     "text": [
      "C:\\Users\\mrimb\\AppData\\Local\\Temp/ipykernel_17464/3989888564.py:4: FutureWarning: In a future version of pandas all arguments of DataFrame.drop except for the argument 'labels' will be keyword-only\n",
      "  df.drop(df.columns.difference([\"text\",\"type\"]), 1, inplace=True)\n"
     ]
    }
   ],
   "source": [
    "import pandas as pd \n",
    "\n",
    "df = pd.read_excel(\"annotations.xlsx\",index_col=0 )\n",
    "df.drop(df.columns.difference([\"text\",\"type\"]), 1, inplace=True)\n",
    "distrub = df['type'].value_counts(normalize=True)\n",
    "one_hot = pd.get_dummies(df[\"type\"])\n",
    "df = df.drop(\"type\",axis = 1)\n",
    "df = df.join(one_hot)\n",
    "\n",
    "print(df)\n",
    "\n"
   ]
  },
  {
   "cell_type": "markdown",
   "metadata": {},
   "source": [
    "### Exploratory data analysis "
   ]
  },
  {
   "cell_type": "code",
   "execution_count": 19,
   "metadata": {},
   "outputs": [
    {
     "name": "stdout",
     "output_type": "stream",
     "text": [
      "Percentage Distrubtuion\n",
      "left      40.753868\n",
      "right     40.686357\n",
      "center    18.559775\n",
      "Name: type, dtype: float64\n"
     ]
    }
   ],
   "source": [
    "#numerical data anaylisis \n",
    "center = df['center'].value_counts()\n",
    "left = df['left'].value_counts()\n",
    "right = df['right'].value_counts()\n",
    "print(\"Percentage Distrubtuion\")\n",
    "print(distrub * 100) "
   ]
  }
 ],
 "metadata": {
  "interpreter": {
   "hash": "b4f3180dad18104dcc567b2a312b77409dee62167252131be2d0af34ec1d8223"
  },
  "kernelspec": {
   "display_name": "Python 3.9.7 ('base')",
   "language": "python",
   "name": "python3"
  },
  "language_info": {
   "codemirror_mode": {
    "name": "ipython",
    "version": 3
   },
   "file_extension": ".py",
   "mimetype": "text/x-python",
   "name": "python",
   "nbconvert_exporter": "python",
   "pygments_lexer": "ipython3",
   "version": "3.9.7"
  },
  "orig_nbformat": 4
 },
 "nbformat": 4,
 "nbformat_minor": 2
}
