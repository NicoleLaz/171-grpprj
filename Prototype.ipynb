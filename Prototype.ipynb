{
 "cells": [
  {
   "cell_type": "markdown",
   "metadata": {},
   "source": [
    "# Prototype\n"
   ]
  },
  {
   "cell_type": "markdown",
   "metadata": {},
   "source": [
    "### First data proccesing into pandas or numpy "
   ]
  },
  {
   "cell_type": "code",
   "execution_count": 30,
   "metadata": {},
   "outputs": [],
   "source": [
    "import pandas as pd \n",
    "import numpy as np\n"
   ]
  },
  {
   "cell_type": "code",
   "execution_count": 29,
   "metadata": {},
   "outputs": [
    {
     "name": "stdout",
     "output_type": "stream",
     "text": [
      "                                                    text  center  left  right\n",
      "0      The transgender effort to suppress any recogni...       0     0      1\n",
      "1      Radical Virginia Citizens Defense League has o...       0     1      0\n",
      "2      Miller is the architect of President Donald Tr...       0     1      0\n",
      "3      The House Democrats’ 1,400-page coronavirus re...       0     0      1\n",
      "4      A specter is haunting the West; our elites see...       0     0      1\n",
      "...                                                  ...     ...   ...    ...\n",
      "22466  Oregon first graders could attend gun safety c...       1     0      0\n",
      "22467  But President Donald Trump and his campaign ad...       0     1      0\n",
      "22468  The normalization effort included softened rhe...       1     0      0\n",
      "22469  And so, while demonstrations began to spread a...       0     1      0\n",
      "22470  House and Senate Democrats are responding to t...       0     0      1\n",
      "\n",
      "[17775 rows x 4 columns]\n"
     ]
    },
    {
     "name": "stderr",
     "output_type": "stream",
     "text": [
      "C:\\Users\\mrimb\\AppData\\Local\\Temp/ipykernel_17464/174351494.py:2: FutureWarning: In a future version of pandas all arguments of DataFrame.drop except for the argument 'labels' will be keyword-only\n",
      "  df.drop(df.columns.difference([\"text\",\"type\"]), 1, inplace=True)\n"
     ]
    }
   ],
   "source": [
    "\n",
    "df = pd.read_excel(\"annotations.xlsx\",index_col=0 )\n",
    "df.drop(df.columns.difference([\"text\",\"type\"]), 1, inplace=True)\n",
    "distrub = df['type'].value_counts(normalize=True)\n",
    "one_hot = pd.get_dummies(df[\"type\"])\n",
    "df = df.drop(\"type\",axis = 1)\n",
    "df = df.join(one_hot)\n",
    "\n",
    "print(df)\n",
    "\n"
   ]
  },
  {
   "cell_type": "markdown",
   "metadata": {},
   "source": [
    "### Exploratory data analysis "
   ]
  },
  {
   "cell_type": "code",
   "execution_count": 31,
   "metadata": {},
   "outputs": [
    {
     "name": "stdout",
     "output_type": "stream",
     "text": [
      "--Distrubtion of Poltical Bias--\n",
      "Percentage Distrubtuion\n",
      "left      40.753868\n",
      "right     40.686357\n",
      "center    18.559775\n",
      "Name: type, dtype: float64\n"
     ]
    }
   ],
   "source": [
    "#numerical data anaylisis on the type\n",
    "print(\"--Distrubtion of Poltical Bias--\")\n",
    "center = df['center'].value_counts() #we use post one-hot encoded dataset \n",
    "left = df['left'].value_counts()\n",
    "right = df['right'].value_counts()\n",
    "print(\"Percentage Distrubtuion\")\n",
    "print(distrub * 100) "
   ]
  },
  {
   "cell_type": "code",
   "execution_count": 38,
   "metadata": {},
   "outputs": [
    {
     "name": "stdout",
     "output_type": "stream",
     "text": [
      "--WORD PER SENTENCE AVGS--\n",
      "Left word count average:  33.95416896742132\n",
      "Center word count average:  33.250552638850515\n",
      "Right word count average:  32.545768805309734\n",
      "Total word count avergae:  33.42632911392405\n"
     ]
    },
    {
     "data": {
      "image/png": "[encoded data removed]",
      "text/plain": [
       "<Figure size 1008x288 with 4 Axes>"
      ]
     },
     "metadata": {
      "needs_background": "light"
     },
     "output_type": "display_data"
    }
   ],
   "source": [
    "import matplotlib.pyplot as plt\n",
    "#Text anaylsis on the body of the text \n",
    "print(\"--WORD PER SENTENCE AVGS--\")\n",
    "df['word_count'] = df['text'].apply(lambda x: len(str(x).split()))\n",
    "print(\"Left word count average: \", df[df['left']==1]['word_count'].mean()) #left\n",
    "print(\"Center word count average: \", df[df['center']==0]['word_count'].mean()) #center\n",
    "print(\"Right word count average: \", df[df['right']==1]['word_count'].mean()) #right\n",
    "print(\"Total word count avergae: \", df['word_count'].mean()) #Total\n",
    "# print(df)\n",
    "\n",
    "fig,(leftAx,RightAx,CenterAx,TotalAx)=plt.subplots(1,4,figsize=(14,4))\n",
    "lefty=df[df['left']==1]['word_count']\n",
    "leftAx.hist(lefty,color='blue')\n",
    "leftAx.set_title('Left Length Distrubution')\n",
    "righty=df[df['right']==1]['word_count']\n",
    "RightAx.hist(righty,color='red')\n",
    "RightAx.set_title('Right Length Distrucbtion')\n",
    "centery=df[df['center']==1]['word_count']\n",
    "CenterAx.hist(centery,color='green')\n",
    "CenterAx.set_title('Center Length Distrucbtion')\n",
    "totally=df['word_count']\n",
    "TotalAx.hist(totally,color='black')\n",
    "TotalAx.set_title('Total Length Distrucbtion')\n",
    "fig.suptitle('Words per sentence')\n",
    "plt.show()\n"
   ]
  }
 ],
 "metadata": {
  "interpreter": {
   "hash": "b4f3180dad18104dcc567b2a312b77409dee62167252131be2d0af34ec1d8223"
  },
  "kernelspec": {
   "display_name": "Python 3.9.7 ('base')",
   "language": "python",
   "name": "python3"
  },
  "language_info": {
   "codemirror_mode": {
    "name": "ipython",
    "version": 3
   },
   "file_extension": ".py",
   "mimetype": "text/x-python",
   "name": "python",
   "nbconvert_exporter": "python",
   "pygments_lexer": "ipython3",
   "version": "3.9.7"
  },
  "orig_nbformat": 4
 },
 "nbformat": 4,
 "nbformat_minor": 2
}
